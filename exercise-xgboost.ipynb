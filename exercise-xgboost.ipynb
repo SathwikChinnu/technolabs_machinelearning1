{
 "cells": [
  {
   "cell_type": "markdown",
   "id": "3f1a09ab",
   "metadata": {
    "papermill": {
     "duration": 0.005531,
     "end_time": "2023-01-14T16:28:39.095775",
     "exception": false,
     "start_time": "2023-01-14T16:28:39.090244",
     "status": "completed"
    },
    "tags": []
   },
   "source": [
    "**This notebook is an exercise in the [Intermediate Machine Learning](https://www.kaggle.com/learn/intermediate-machine-learning) course.  You can reference the tutorial at [this link](https://www.kaggle.com/alexisbcook/xgboost).**\n",
    "\n",
    "---\n"
   ]
  },
  {
   "cell_type": "markdown",
   "id": "397d3afa",
   "metadata": {
    "papermill": {
     "duration": 0.004376,
     "end_time": "2023-01-14T16:28:39.105000",
     "exception": false,
     "start_time": "2023-01-14T16:28:39.100624",
     "status": "completed"
    },
    "tags": []
   },
   "source": [
    "In this exercise, you will use your new knowledge to train a model with **gradient boosting**.\n",
    "\n",
    "# Setup\n",
    "\n",
    "The questions below will give you feedback on your work. Run the following cell to set up the feedback system."
   ]
  },
  {
   "cell_type": "code",
   "execution_count": 1,
   "id": "eea6b2a4",
   "metadata": {
    "execution": {
     "iopub.execute_input": "2023-01-14T16:28:39.116950Z",
     "iopub.status.busy": "2023-01-14T16:28:39.116213Z",
     "iopub.status.idle": "2023-01-14T16:28:42.114477Z",
     "shell.execute_reply": "2023-01-14T16:28:42.113320Z"
    },
    "papermill": {
     "duration": 3.008421,
     "end_time": "2023-01-14T16:28:42.118085",
     "exception": false,
     "start_time": "2023-01-14T16:28:39.109664",
     "status": "completed"
    },
    "tags": []
   },
   "outputs": [
    {
     "name": "stdout",
     "output_type": "stream",
     "text": [
      "Setup Complete\n"
     ]
    }
   ],
   "source": [
    "# Set up code checking\n",
    "import os\n",
    "if not os.path.exists(\"../input/train.csv\"):\n",
    "    os.symlink(\"../input/home-data-for-ml-course/train.csv\", \"../input/train.csv\")  \n",
    "    os.symlink(\"../input/home-data-for-ml-course/test.csv\", \"../input/test.csv\") \n",
    "from learntools.core import binder\n",
    "binder.bind(globals())\n",
    "from learntools.ml_intermediate.ex6 import *\n",
    "print(\"Setup Complete\")"
   ]
  },
  {
   "cell_type": "markdown",
   "id": "884b6f86",
   "metadata": {
    "papermill": {
     "duration": 0.004508,
     "end_time": "2023-01-14T16:28:42.127780",
     "exception": false,
     "start_time": "2023-01-14T16:28:42.123272",
     "status": "completed"
    },
    "tags": []
   },
   "source": [
    "You will work with the [Housing Prices Competition for Kaggle Learn Users](https://www.kaggle.com/c/home-data-for-ml-course) dataset from the previous exercise. \n",
    "\n",
    "![Ames Housing dataset image](https://i.imgur.com/lTJVG4e.png)\n",
    "\n",
    "Run the next code cell without changes to load the training and validation sets in `X_train`, `X_valid`, `y_train`, and `y_valid`.  The test set is loaded in `X_test`."
   ]
  },
  {
   "cell_type": "code",
   "execution_count": 2,
   "id": "4ceff175",
   "metadata": {
    "execution": {
     "iopub.execute_input": "2023-01-14T16:28:42.138842Z",
     "iopub.status.busy": "2023-01-14T16:28:42.138443Z",
     "iopub.status.idle": "2023-01-14T16:28:42.299465Z",
     "shell.execute_reply": "2023-01-14T16:28:42.297912Z"
    },
    "papermill": {
     "duration": 0.169482,
     "end_time": "2023-01-14T16:28:42.301943",
     "exception": false,
     "start_time": "2023-01-14T16:28:42.132461",
     "status": "completed"
    },
    "tags": []
   },
   "outputs": [],
   "source": [
    "import pandas as pd\n",
    "from sklearn.model_selection import train_test_split\n",
    "\n",
    "# Read the data\n",
    "X = pd.read_csv('../input/train.csv', index_col='Id')\n",
    "X_test_full = pd.read_csv('../input/test.csv', index_col='Id')\n",
    "\n",
    "# Remove rows with missing target, separate target from predictors\n",
    "X.dropna(axis=0, subset=['SalePrice'], inplace=True)\n",
    "y = X.SalePrice              \n",
    "X.drop(['SalePrice'], axis=1, inplace=True)\n",
    "\n",
    "# Break off validation set from training data\n",
    "X_train_full, X_valid_full, y_train, y_valid = train_test_split(X, y, train_size=0.8, test_size=0.2,\n",
    "                                                                random_state=0)\n",
    "\n",
    "# \"Cardinality\" means the number of unique values in a column\n",
    "# Select categorical columns with relatively low cardinality (convenient but arbitrary)\n",
    "low_cardinality_cols = [cname for cname in X_train_full.columns if X_train_full[cname].nunique() < 10 and \n",
    "                        X_train_full[cname].dtype == \"object\"]\n",
    "\n",
    "# Select numeric columns\n",
    "numeric_cols = [cname for cname in X_train_full.columns if X_train_full[cname].dtype in ['int64', 'float64']]\n",
    "\n",
    "# Keep selected columns only\n",
    "my_cols = low_cardinality_cols + numeric_cols\n",
    "X_train = X_train_full[my_cols].copy()\n",
    "X_valid = X_valid_full[my_cols].copy()\n",
    "X_test = X_test_full[my_cols].copy()\n",
    "\n",
    "# One-hot encode the data (to shorten the code, we use pandas)\n",
    "X_train = pd.get_dummies(X_train)\n",
    "X_valid = pd.get_dummies(X_valid)\n",
    "X_test = pd.get_dummies(X_test)\n",
    "X_train, X_valid = X_train.align(X_valid, join='left', axis=1)\n",
    "X_train, X_test = X_train.align(X_test, join='left', axis=1)"
   ]
  },
  {
   "cell_type": "markdown",
   "id": "04ce5543",
   "metadata": {
    "papermill": {
     "duration": 0.004478,
     "end_time": "2023-01-14T16:28:42.311383",
     "exception": false,
     "start_time": "2023-01-14T16:28:42.306905",
     "status": "completed"
    },
    "tags": []
   },
   "source": [
    "# Step 1: Build model\n",
    "\n",
    "### Part A\n",
    "\n",
    "In this step, you'll build and train your first model with gradient boosting.\n",
    "\n",
    "- Begin by setting `my_model_1` to an XGBoost model.  Use the [XGBRegressor](https://xgboost.readthedocs.io/en/latest/python/python_api.html#xgboost.XGBRegressor) class, and set the random seed to 0 (`random_state=0`).  **Leave all other parameters as default.**\n",
    "- Then, fit the model to the training data in `X_train` and `y_train`."
   ]
  },
  {
   "cell_type": "code",
   "execution_count": 3,
   "id": "f5abaa18",
   "metadata": {
    "execution": {
     "iopub.execute_input": "2023-01-14T16:28:42.323434Z",
     "iopub.status.busy": "2023-01-14T16:28:42.321919Z",
     "iopub.status.idle": "2023-01-14T16:28:43.130072Z",
     "shell.execute_reply": "2023-01-14T16:28:43.129003Z"
    },
    "papermill": {
     "duration": 0.816058,
     "end_time": "2023-01-14T16:28:43.132076",
     "exception": false,
     "start_time": "2023-01-14T16:28:42.316018",
     "status": "completed"
    },
    "tags": []
   },
   "outputs": [
    {
     "data": {
      "application/javascript": [
       "parent.postMessage({\"jupyterEvent\": \"custom.exercise_interaction\", \"data\": {\"outcomeType\": 1, \"valueTowardsCompletion\": 0.5, \"interactionType\": 1, \"questionType\": 2, \"questionId\": \"1.1_Model1A\", \"learnToolsVersion\": \"0.3.4\", \"failureMessage\": \"\", \"exceptionClass\": \"\", \"trace\": \"\"}}, \"*\")"
      ],
      "text/plain": [
       "<IPython.core.display.Javascript object>"
      ]
     },
     "metadata": {},
     "output_type": "display_data"
    },
    {
     "data": {
      "text/markdown": [
       "<span style=\"color:#33cc33\">Correct</span>"
      ],
      "text/plain": [
       "Correct"
      ]
     },
     "metadata": {},
     "output_type": "display_data"
    }
   ],
   "source": [
    "from xgboost import XGBRegressor\n",
    "\n",
    "# Define the model\n",
    "my_model_1 =XGBRegressor(random_state=0) # Your code here\n",
    "\n",
    "# Fit the model\n",
    "my_model_1.fit(X_train, y_train) # Your code here\n",
    "\n",
    "# Check your answer\n",
    "step_1.a.check()"
   ]
  },
  {
   "cell_type": "code",
   "execution_count": 4,
   "id": "18c8557b",
   "metadata": {
    "execution": {
     "iopub.execute_input": "2023-01-14T16:28:43.144402Z",
     "iopub.status.busy": "2023-01-14T16:28:43.143123Z",
     "iopub.status.idle": "2023-01-14T16:28:43.148157Z",
     "shell.execute_reply": "2023-01-14T16:28:43.147105Z"
    },
    "papermill": {
     "duration": 0.013488,
     "end_time": "2023-01-14T16:28:43.150586",
     "exception": false,
     "start_time": "2023-01-14T16:28:43.137098",
     "status": "completed"
    },
    "tags": []
   },
   "outputs": [],
   "source": [
    "# Lines below will give you a hint or solution code\n",
    "#step_1.a.hint()\n",
    "#step_1.a.solution()"
   ]
  },
  {
   "cell_type": "markdown",
   "id": "011f9daf",
   "metadata": {
    "papermill": {
     "duration": 0.005923,
     "end_time": "2023-01-14T16:28:43.161540",
     "exception": false,
     "start_time": "2023-01-14T16:28:43.155617",
     "status": "completed"
    },
    "tags": []
   },
   "source": [
    "### Part B\n",
    "\n",
    "Set `predictions_1` to the model's predictions for the validation data.  Recall that the validation features are stored in `X_valid`."
   ]
  },
  {
   "cell_type": "code",
   "execution_count": 5,
   "id": "5348b081",
   "metadata": {
    "execution": {
     "iopub.execute_input": "2023-01-14T16:28:43.172716Z",
     "iopub.status.busy": "2023-01-14T16:28:43.172368Z",
     "iopub.status.idle": "2023-01-14T16:28:43.188843Z",
     "shell.execute_reply": "2023-01-14T16:28:43.188118Z"
    },
    "papermill": {
     "duration": 0.02728,
     "end_time": "2023-01-14T16:28:43.193669",
     "exception": false,
     "start_time": "2023-01-14T16:28:43.166389",
     "status": "completed"
    },
    "tags": []
   },
   "outputs": [
    {
     "data": {
      "application/javascript": [
       "parent.postMessage({\"jupyterEvent\": \"custom.exercise_interaction\", \"data\": {\"outcomeType\": 1, \"valueTowardsCompletion\": 0.5, \"interactionType\": 1, \"questionType\": 2, \"questionId\": \"1.2_Model1B\", \"learnToolsVersion\": \"0.3.4\", \"failureMessage\": \"\", \"exceptionClass\": \"\", \"trace\": \"\"}}, \"*\")"
      ],
      "text/plain": [
       "<IPython.core.display.Javascript object>"
      ]
     },
     "metadata": {},
     "output_type": "display_data"
    },
    {
     "data": {
      "text/markdown": [
       "<span style=\"color:#33cc33\">Correct</span>"
      ],
      "text/plain": [
       "Correct"
      ]
     },
     "metadata": {},
     "output_type": "display_data"
    }
   ],
   "source": [
    "from sklearn.metrics import mean_absolute_error\n",
    "\n",
    "# Get predictions\n",
    "predictions_1 =my_model_1.predict(X_valid) # Your code here\n",
    "\n",
    "# Check your answer\n",
    "step_1.b.check()"
   ]
  },
  {
   "cell_type": "code",
   "execution_count": 6,
   "id": "bf589597",
   "metadata": {
    "execution": {
     "iopub.execute_input": "2023-01-14T16:28:43.205279Z",
     "iopub.status.busy": "2023-01-14T16:28:43.204957Z",
     "iopub.status.idle": "2023-01-14T16:28:43.209463Z",
     "shell.execute_reply": "2023-01-14T16:28:43.208171Z"
    },
    "papermill": {
     "duration": 0.01255,
     "end_time": "2023-01-14T16:28:43.211391",
     "exception": false,
     "start_time": "2023-01-14T16:28:43.198841",
     "status": "completed"
    },
    "tags": []
   },
   "outputs": [],
   "source": [
    "# Lines below will give you a hint or solution code\n",
    "#step_1.b.hint()\n",
    "#step_1.b.solution()"
   ]
  },
  {
   "cell_type": "markdown",
   "id": "688b468e",
   "metadata": {
    "papermill": {
     "duration": 0.004734,
     "end_time": "2023-01-14T16:28:43.221414",
     "exception": false,
     "start_time": "2023-01-14T16:28:43.216680",
     "status": "completed"
    },
    "tags": []
   },
   "source": [
    "### Part C\n",
    "\n",
    "Finally, use the `mean_absolute_error()` function to calculate the mean absolute error (MAE) corresponding to the predictions for the validation set.  Recall that the labels for the validation data are stored in `y_valid`."
   ]
  },
  {
   "cell_type": "code",
   "execution_count": 7,
   "id": "69674eb1",
   "metadata": {
    "execution": {
     "iopub.execute_input": "2023-01-14T16:28:43.232940Z",
     "iopub.status.busy": "2023-01-14T16:28:43.232601Z",
     "iopub.status.idle": "2023-01-14T16:28:43.244820Z",
     "shell.execute_reply": "2023-01-14T16:28:43.243603Z"
    },
    "papermill": {
     "duration": 0.020443,
     "end_time": "2023-01-14T16:28:43.246973",
     "exception": false,
     "start_time": "2023-01-14T16:28:43.226530",
     "status": "completed"
    },
    "tags": []
   },
   "outputs": [
    {
     "name": "stdout",
     "output_type": "stream",
     "text": [
      "Mean Absolute Error: 17662.736729452055\n"
     ]
    },
    {
     "data": {
      "application/javascript": [
       "parent.postMessage({\"jupyterEvent\": \"custom.exercise_interaction\", \"data\": {\"outcomeType\": 1, \"valueTowardsCompletion\": 0.5, \"interactionType\": 1, \"questionType\": 2, \"questionId\": \"1.3_Model1C\", \"learnToolsVersion\": \"0.3.4\", \"failureMessage\": \"\", \"exceptionClass\": \"\", \"trace\": \"\"}}, \"*\")"
      ],
      "text/plain": [
       "<IPython.core.display.Javascript object>"
      ]
     },
     "metadata": {},
     "output_type": "display_data"
    },
    {
     "data": {
      "text/markdown": [
       "<span style=\"color:#33cc33\">Correct</span>"
      ],
      "text/plain": [
       "Correct"
      ]
     },
     "metadata": {},
     "output_type": "display_data"
    }
   ],
   "source": [
    "# Calculate MAE\n",
    "mae_1 =mean_absolute_error(predictions_1, y_valid) # Your code here\n",
    "\n",
    "# Uncomment to print MAE\n",
    "print(\"Mean Absolute Error:\" , mae_1)\n",
    "\n",
    "# Check your answer\n",
    "step_1.c.check()"
   ]
  },
  {
   "cell_type": "code",
   "execution_count": 8,
   "id": "eb91ce29",
   "metadata": {
    "execution": {
     "iopub.execute_input": "2023-01-14T16:28:43.259707Z",
     "iopub.status.busy": "2023-01-14T16:28:43.259267Z",
     "iopub.status.idle": "2023-01-14T16:28:43.263793Z",
     "shell.execute_reply": "2023-01-14T16:28:43.262765Z"
    },
    "papermill": {
     "duration": 0.013969,
     "end_time": "2023-01-14T16:28:43.266623",
     "exception": false,
     "start_time": "2023-01-14T16:28:43.252654",
     "status": "completed"
    },
    "tags": []
   },
   "outputs": [],
   "source": [
    "# Lines below will give you a hint or solution code\n",
    "#step_1.c.hint()\n",
    "#step_1.c.solution()"
   ]
  },
  {
   "cell_type": "markdown",
   "id": "0a75eb33",
   "metadata": {
    "papermill": {
     "duration": 0.005078,
     "end_time": "2023-01-14T16:28:43.277302",
     "exception": false,
     "start_time": "2023-01-14T16:28:43.272224",
     "status": "completed"
    },
    "tags": []
   },
   "source": [
    "# Step 2: Improve the model\n",
    "\n",
    "Now that you've trained a default model as baseline, it's time to tinker with the parameters, to see if you can get better performance!\n",
    "- Begin by setting `my_model_2` to an XGBoost model, using the [XGBRegressor](https://xgboost.readthedocs.io/en/latest/python/python_api.html#xgboost.XGBRegressor) class.  Use what you learned in the previous tutorial to figure out how to change the default parameters (like `n_estimators` and `learning_rate`) to get better results.\n",
    "- Then, fit the model to the training data in `X_train` and `y_train`.\n",
    "- Set `predictions_2` to the model's predictions for the validation data.  Recall that the validation features are stored in `X_valid`.\n",
    "- Finally, use the `mean_absolute_error()` function to calculate the mean absolute error (MAE) corresponding to the predictions on the validation set.  Recall that the labels for the validation data are stored in `y_valid`.\n",
    "\n",
    "In order for this step to be marked correct, your model in `my_model_2` must attain lower MAE than the model in `my_model_1`. "
   ]
  },
  {
   "cell_type": "code",
   "execution_count": 9,
   "id": "5077b185",
   "metadata": {
    "execution": {
     "iopub.execute_input": "2023-01-14T16:28:43.289377Z",
     "iopub.status.busy": "2023-01-14T16:28:43.288980Z",
     "iopub.status.idle": "2023-01-14T16:28:50.304620Z",
     "shell.execute_reply": "2023-01-14T16:28:50.302949Z"
    },
    "papermill": {
     "duration": 7.024319,
     "end_time": "2023-01-14T16:28:50.306865",
     "exception": false,
     "start_time": "2023-01-14T16:28:43.282546",
     "status": "completed"
    },
    "tags": []
   },
   "outputs": [
    {
     "name": "stdout",
     "output_type": "stream",
     "text": [
      "Mean Absolute Error: 16688.691513270547\n"
     ]
    },
    {
     "data": {
      "application/javascript": [
       "parent.postMessage({\"jupyterEvent\": \"custom.exercise_interaction\", \"data\": {\"outcomeType\": 1, \"valueTowardsCompletion\": 0.5, \"interactionType\": 1, \"questionType\": 2, \"questionId\": \"2_Model2\", \"learnToolsVersion\": \"0.3.4\", \"failureMessage\": \"\", \"exceptionClass\": \"\", \"trace\": \"\"}}, \"*\")"
      ],
      "text/plain": [
       "<IPython.core.display.Javascript object>"
      ]
     },
     "metadata": {},
     "output_type": "display_data"
    },
    {
     "data": {
      "text/markdown": [
       "<span style=\"color:#33cc33\">Correct</span>"
      ],
      "text/plain": [
       "Correct"
      ]
     },
     "metadata": {},
     "output_type": "display_data"
    }
   ],
   "source": [
    "# Define the model\n",
    "my_model_2 =XGBRegressor(n_estimators=1000, learning_rate=0.05) # Your code here\n",
    "\n",
    "# Fit the model\n",
    "my_model_2.fit(X_train, y_train)# Your code here\n",
    "\n",
    "# Get predictions\n",
    "predictions_2 =predictions_2 = my_model_2.predict(X_valid) # Your code here\n",
    "\n",
    "# Calculate MAE\n",
    "mae_2 =mean_absolute_error(predictions_2, y_valid) # Your code here\n",
    "\n",
    "# Uncomment to print MAE\n",
    "print(\"Mean Absolute Error:\" , mae_2)\n",
    "\n",
    "# Check your answer\n",
    "step_2.check()"
   ]
  },
  {
   "cell_type": "code",
   "execution_count": 10,
   "id": "4e095122",
   "metadata": {
    "execution": {
     "iopub.execute_input": "2023-01-14T16:28:50.319851Z",
     "iopub.status.busy": "2023-01-14T16:28:50.319445Z",
     "iopub.status.idle": "2023-01-14T16:28:50.324667Z",
     "shell.execute_reply": "2023-01-14T16:28:50.323520Z"
    },
    "papermill": {
     "duration": 0.014537,
     "end_time": "2023-01-14T16:28:50.327109",
     "exception": false,
     "start_time": "2023-01-14T16:28:50.312572",
     "status": "completed"
    },
    "tags": []
   },
   "outputs": [],
   "source": [
    "# Lines below will give you a hint or solution code\n",
    "#step_2.hint()\n",
    "#step_2.solution()"
   ]
  },
  {
   "cell_type": "markdown",
   "id": "489b18f9",
   "metadata": {
    "papermill": {
     "duration": 0.005295,
     "end_time": "2023-01-14T16:28:50.338214",
     "exception": false,
     "start_time": "2023-01-14T16:28:50.332919",
     "status": "completed"
    },
    "tags": []
   },
   "source": [
    "# Step 3: Break the model\n",
    "\n",
    "In this step, you will create a model that performs worse than the original model in Step 1.  This will help you to develop your intuition for how to set parameters.  You might even find that you accidentally get better performance, which is ultimately a nice problem to have and a valuable learning experience!\n",
    "- Begin by setting `my_model_3` to an XGBoost model, using the [XGBRegressor](https://xgboost.readthedocs.io/en/latest/python/python_api.html#xgboost.XGBRegressor) class.  Use what you learned in the previous tutorial to figure out how to change the default parameters (like `n_estimators` and `learning_rate`) to design a model to get high MAE.\n",
    "- Then, fit the model to the training data in `X_train` and `y_train`.\n",
    "- Set `predictions_3` to the model's predictions for the validation data.  Recall that the validation features are stored in `X_valid`.\n",
    "- Finally, use the `mean_absolute_error()` function to calculate the mean absolute error (MAE) corresponding to the predictions on the validation set.  Recall that the labels for the validation data are stored in `y_valid`.\n",
    "\n",
    "In order for this step to be marked correct, your model in `my_model_3` must attain higher MAE than the model in `my_model_1`. "
   ]
  },
  {
   "cell_type": "code",
   "execution_count": 11,
   "id": "8203b0f5",
   "metadata": {
    "execution": {
     "iopub.execute_input": "2023-01-14T16:28:50.350938Z",
     "iopub.status.busy": "2023-01-14T16:28:50.350590Z",
     "iopub.status.idle": "2023-01-14T16:28:50.400410Z",
     "shell.execute_reply": "2023-01-14T16:28:50.399299Z"
    },
    "papermill": {
     "duration": 0.059485,
     "end_time": "2023-01-14T16:28:50.403235",
     "exception": false,
     "start_time": "2023-01-14T16:28:50.343750",
     "status": "completed"
    },
    "tags": []
   },
   "outputs": [
    {
     "name": "stdout",
     "output_type": "stream",
     "text": [
      "Mean Absolute Error: 127895.0828807256\n"
     ]
    },
    {
     "data": {
      "application/javascript": [
       "parent.postMessage({\"jupyterEvent\": \"custom.exercise_interaction\", \"data\": {\"outcomeType\": 1, \"valueTowardsCompletion\": 0.5, \"interactionType\": 1, \"questionType\": 2, \"questionId\": \"3_Model3\", \"learnToolsVersion\": \"0.3.4\", \"failureMessage\": \"\", \"exceptionClass\": \"\", \"trace\": \"\"}}, \"*\")"
      ],
      "text/plain": [
       "<IPython.core.display.Javascript object>"
      ]
     },
     "metadata": {},
     "output_type": "display_data"
    },
    {
     "data": {
      "text/markdown": [
       "<span style=\"color:#33cc33\">Correct</span>"
      ],
      "text/plain": [
       "Correct"
      ]
     },
     "metadata": {},
     "output_type": "display_data"
    }
   ],
   "source": [
    "# Define the model\n",
    "my_model_3 =XGBRegressor(n_estimators=1)\n",
    "\n",
    "# Fit the model\n",
    "my_model_3.fit(X_train, y_train) # Your code here\n",
    "\n",
    "# Get predictions\n",
    "predictions_3 =my_model_3.predict(X_valid)\n",
    "\n",
    "# Calculate MAE\n",
    "mae_3 =mean_absolute_error(predictions_3, y_valid)\n",
    "\n",
    "# Uncomment to print MAE\n",
    "print(\"Mean Absolute Error:\" , mae_3)\n",
    "\n",
    "# Check your answer\n",
    "step_3.check()"
   ]
  },
  {
   "cell_type": "code",
   "execution_count": 12,
   "id": "95f89104",
   "metadata": {
    "execution": {
     "iopub.execute_input": "2023-01-14T16:28:50.417585Z",
     "iopub.status.busy": "2023-01-14T16:28:50.417177Z",
     "iopub.status.idle": "2023-01-14T16:28:50.422832Z",
     "shell.execute_reply": "2023-01-14T16:28:50.421205Z"
    },
    "papermill": {
     "duration": 0.01575,
     "end_time": "2023-01-14T16:28:50.425664",
     "exception": false,
     "start_time": "2023-01-14T16:28:50.409914",
     "status": "completed"
    },
    "tags": []
   },
   "outputs": [],
   "source": [
    "# Lines below will give you a hint or solution code\n",
    "#step_3.hint()\n",
    "#step_3.solution()"
   ]
  },
  {
   "cell_type": "markdown",
   "id": "1429fb50",
   "metadata": {
    "papermill": {
     "duration": 0.005669,
     "end_time": "2023-01-14T16:28:50.437431",
     "exception": false,
     "start_time": "2023-01-14T16:28:50.431762",
     "status": "completed"
    },
    "tags": []
   },
   "source": [
    "# Keep going\n",
    "\n",
    "Continue to learn about **[data leakage](https://www.kaggle.com/alexisbcook/data-leakage)**.  This is an important issue for a data scientist to understand, and it has the potential to ruin your models in subtle and dangerous ways!"
   ]
  },
  {
   "cell_type": "markdown",
   "id": "576fd565",
   "metadata": {
    "papermill": {
     "duration": 0.005624,
     "end_time": "2023-01-14T16:28:50.448954",
     "exception": false,
     "start_time": "2023-01-14T16:28:50.443330",
     "status": "completed"
    },
    "tags": []
   },
   "source": [
    "---\n",
    "\n",
    "\n",
    "\n",
    "\n",
    "*Have questions or comments? Visit the [course discussion forum](https://www.kaggle.com/learn/intermediate-machine-learning/discussion) to chat with other learners.*"
   ]
  }
 ],
 "metadata": {
  "kernelspec": {
   "display_name": "Python 3",
   "language": "python",
   "name": "python3"
  },
  "language_info": {
   "codemirror_mode": {
    "name": "ipython",
    "version": 3
   },
   "file_extension": ".py",
   "mimetype": "text/x-python",
   "name": "python",
   "nbconvert_exporter": "python",
   "pygments_lexer": "ipython3",
   "version": "3.7.12"
  },
  "papermill": {
   "default_parameters": {},
   "duration": 19.918946,
   "end_time": "2023-01-14T16:28:51.177368",
   "environment_variables": {},
   "exception": null,
   "input_path": "__notebook__.ipynb",
   "output_path": "__notebook__.ipynb",
   "parameters": {},
   "start_time": "2023-01-14T16:28:31.258422",
   "version": "2.3.4"
  }
 },
 "nbformat": 4,
 "nbformat_minor": 5
}
