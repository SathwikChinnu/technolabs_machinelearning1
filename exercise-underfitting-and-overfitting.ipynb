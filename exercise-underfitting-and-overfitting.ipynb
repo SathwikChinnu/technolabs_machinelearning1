{
 "cells": [
  {
   "cell_type": "markdown",
   "id": "8c842454",
   "metadata": {
    "papermill": {
     "duration": 0.003856,
     "end_time": "2023-01-14T14:54:43.509618",
     "exception": false,
     "start_time": "2023-01-14T14:54:43.505762",
     "status": "completed"
    },
    "tags": []
   },
   "source": [
    "**This notebook is an exercise in the [Introduction to Machine Learning](https://www.kaggle.com/learn/intro-to-machine-learning) course.  You can reference the tutorial at [this link](https://www.kaggle.com/dansbecker/underfitting-and-overfitting).**\n",
    "\n",
    "---\n"
   ]
  },
  {
   "cell_type": "markdown",
   "id": "b2ef8553",
   "metadata": {
    "papermill": {
     "duration": 0.00273,
     "end_time": "2023-01-14T14:54:43.515461",
     "exception": false,
     "start_time": "2023-01-14T14:54:43.512731",
     "status": "completed"
    },
    "tags": []
   },
   "source": [
    "## Recap\n",
    "You've built your first model, and now it's time to optimize the size of the tree to make better predictions. Run this cell to set up your coding environment where the previous step left off."
   ]
  },
  {
   "cell_type": "code",
   "execution_count": 1,
   "id": "ff73f858",
   "metadata": {
    "execution": {
     "iopub.execute_input": "2023-01-14T14:54:43.523494Z",
     "iopub.status.busy": "2023-01-14T14:54:43.522966Z",
     "iopub.status.idle": "2023-01-14T14:54:44.980743Z",
     "shell.execute_reply": "2023-01-14T14:54:44.979640Z"
    },
    "papermill": {
     "duration": 1.464672,
     "end_time": "2023-01-14T14:54:44.982983",
     "exception": false,
     "start_time": "2023-01-14T14:54:43.518311",
     "status": "completed"
    },
    "tags": []
   },
   "outputs": [
    {
     "name": "stdout",
     "output_type": "stream",
     "text": [
      "Validation MAE: 29,653\n",
      "\n",
      "Setup complete\n"
     ]
    }
   ],
   "source": [
    "# Code you have previously used to load data\n",
    "import pandas as pd\n",
    "from sklearn.metrics import mean_absolute_error\n",
    "from sklearn.model_selection import train_test_split\n",
    "from sklearn.tree import DecisionTreeRegressor\n",
    "\n",
    "\n",
    "# Path of the file to read\n",
    "iowa_file_path = '../input/home-data-for-ml-course/train.csv'\n",
    "\n",
    "home_data = pd.read_csv(iowa_file_path)\n",
    "# Create target object and call it y\n",
    "y = home_data.SalePrice\n",
    "# Create X\n",
    "features = ['LotArea', 'YearBuilt', '1stFlrSF', '2ndFlrSF', 'FullBath', 'BedroomAbvGr', 'TotRmsAbvGrd']\n",
    "X = home_data[features]\n",
    "\n",
    "# Split into validation and training data\n",
    "train_X, val_X, train_y, val_y = train_test_split(X, y, random_state=1)\n",
    "\n",
    "# Specify Model\n",
    "iowa_model = DecisionTreeRegressor(random_state=1)\n",
    "# Fit Model\n",
    "iowa_model.fit(train_X, train_y)\n",
    "\n",
    "# Make validation predictions and calculate mean absolute error\n",
    "val_predictions = iowa_model.predict(val_X)\n",
    "val_mae = mean_absolute_error(val_predictions, val_y)\n",
    "print(\"Validation MAE: {:,.0f}\".format(val_mae))\n",
    "\n",
    "# Set up code checking\n",
    "from learntools.core import binder\n",
    "binder.bind(globals())\n",
    "from learntools.machine_learning.ex5 import *\n",
    "print(\"\\nSetup complete\")"
   ]
  },
  {
   "cell_type": "markdown",
   "id": "22f8498f",
   "metadata": {
    "papermill": {
     "duration": 0.003483,
     "end_time": "2023-01-14T14:54:44.990265",
     "exception": false,
     "start_time": "2023-01-14T14:54:44.986782",
     "status": "completed"
    },
    "tags": []
   },
   "source": [
    "# Exercises\n",
    "You could write the function `get_mae` yourself. For now, we'll supply it. This is the same function you read about in the previous lesson. Just run the cell below."
   ]
  },
  {
   "cell_type": "code",
   "execution_count": 2,
   "id": "0dbbda71",
   "metadata": {
    "execution": {
     "iopub.execute_input": "2023-01-14T14:54:44.998386Z",
     "iopub.status.busy": "2023-01-14T14:54:44.998006Z",
     "iopub.status.idle": "2023-01-14T14:54:45.003873Z",
     "shell.execute_reply": "2023-01-14T14:54:45.002616Z"
    },
    "papermill": {
     "duration": 0.012559,
     "end_time": "2023-01-14T14:54:45.006058",
     "exception": false,
     "start_time": "2023-01-14T14:54:44.993499",
     "status": "completed"
    },
    "tags": []
   },
   "outputs": [],
   "source": [
    "def get_mae(max_leaf_nodes, train_X, val_X, train_y, val_y):\n",
    "    model = DecisionTreeRegressor(max_leaf_nodes=max_leaf_nodes, random_state=0)\n",
    "    model.fit(train_X, train_y)\n",
    "    preds_val = model.predict(val_X)\n",
    "    mae = mean_absolute_error(val_y, preds_val)\n",
    "    return(mae)"
   ]
  },
  {
   "cell_type": "markdown",
   "id": "04311fbb",
   "metadata": {
    "papermill": {
     "duration": 0.003493,
     "end_time": "2023-01-14T14:54:45.013501",
     "exception": false,
     "start_time": "2023-01-14T14:54:45.010008",
     "status": "completed"
    },
    "tags": []
   },
   "source": [
    "## Step 1: Compare Different Tree Sizes\n",
    "Write a loop that tries the following values for *max_leaf_nodes* from a set of possible values.\n",
    "\n",
    "Call the *get_mae* function on each value of max_leaf_nodes. Store the output in some way that allows you to select the value of `max_leaf_nodes` that gives the most accurate model on your data."
   ]
  },
  {
   "cell_type": "code",
   "execution_count": 3,
   "id": "bd8354cb",
   "metadata": {
    "execution": {
     "iopub.execute_input": "2023-01-14T14:54:45.021724Z",
     "iopub.status.busy": "2023-01-14T14:54:45.021382Z",
     "iopub.status.idle": "2023-01-14T14:54:45.065968Z",
     "shell.execute_reply": "2023-01-14T14:54:45.064784Z"
    },
    "papermill": {
     "duration": 0.051716,
     "end_time": "2023-01-14T14:54:45.068617",
     "exception": false,
     "start_time": "2023-01-14T14:54:45.016901",
     "status": "completed"
    },
    "tags": []
   },
   "outputs": [
    {
     "data": {
      "application/javascript": [
       "parent.postMessage({\"jupyterEvent\": \"custom.exercise_interaction\", \"data\": {\"outcomeType\": 1, \"valueTowardsCompletion\": 0.5, \"interactionType\": 1, \"questionType\": 1, \"questionId\": \"1_BestTreeSize\", \"learnToolsVersion\": \"0.3.4\", \"failureMessage\": \"\", \"exceptionClass\": \"\", \"trace\": \"\"}}, \"*\")"
      ],
      "text/plain": [
       "<IPython.core.display.Javascript object>"
      ]
     },
     "metadata": {},
     "output_type": "display_data"
    },
    {
     "data": {
      "text/markdown": [
       "<span style=\"color:#33cc33\">Correct</span>"
      ],
      "text/plain": [
       "Correct"
      ]
     },
     "metadata": {},
     "output_type": "display_data"
    }
   ],
   "source": [
    "candidate_max_leaf_nodes = [5, 25, 50, 100, 250, 500]\n",
    "# Write loop to find the ideal tree size from candidate_max_leaf_nodes\n",
    "scores = {leaf_size: get_mae(leaf_size, train_X, val_X, train_y, val_y) for leaf_size in candidate_max_leaf_nodes}\n",
    "\n",
    "# Store the best value of max_leaf_nodes (it will be either 5, 25, 50, 100, 250 or 500)\n",
    "best_tree_size =min(scores, key=scores.get)\n",
    "\n",
    "# Check your answer\n",
    "step_1.check()"
   ]
  },
  {
   "cell_type": "code",
   "execution_count": 4,
   "id": "90e6af68",
   "metadata": {
    "execution": {
     "iopub.execute_input": "2023-01-14T14:54:45.077578Z",
     "iopub.status.busy": "2023-01-14T14:54:45.077183Z",
     "iopub.status.idle": "2023-01-14T14:54:45.081854Z",
     "shell.execute_reply": "2023-01-14T14:54:45.080639Z"
    },
    "papermill": {
     "duration": 0.011516,
     "end_time": "2023-01-14T14:54:45.084052",
     "exception": false,
     "start_time": "2023-01-14T14:54:45.072536",
     "status": "completed"
    },
    "tags": []
   },
   "outputs": [],
   "source": [
    "# The lines below will show you a hint or the solution.\n",
    "# step_1.hint() \n",
    "#step_1.solution()"
   ]
  },
  {
   "cell_type": "markdown",
   "id": "0ffae114",
   "metadata": {
    "papermill": {
     "duration": 0.003081,
     "end_time": "2023-01-14T14:54:45.090871",
     "exception": false,
     "start_time": "2023-01-14T14:54:45.087790",
     "status": "completed"
    },
    "tags": []
   },
   "source": [
    "## Step 2: Fit Model Using All Data\n",
    "You know the best tree size. If you were going to deploy this model in practice, you would make it even more accurate by using all of the data and keeping that tree size.  That is, you don't need to hold out the validation data now that you've made all your modeling decisions."
   ]
  },
  {
   "cell_type": "code",
   "execution_count": 5,
   "id": "647c381e",
   "metadata": {
    "execution": {
     "iopub.execute_input": "2023-01-14T14:54:45.099351Z",
     "iopub.status.busy": "2023-01-14T14:54:45.098984Z",
     "iopub.status.idle": "2023-01-14T14:54:45.115642Z",
     "shell.execute_reply": "2023-01-14T14:54:45.114240Z"
    },
    "papermill": {
     "duration": 0.023381,
     "end_time": "2023-01-14T14:54:45.117646",
     "exception": false,
     "start_time": "2023-01-14T14:54:45.094265",
     "status": "completed"
    },
    "tags": []
   },
   "outputs": [
    {
     "data": {
      "application/javascript": [
       "parent.postMessage({\"jupyterEvent\": \"custom.exercise_interaction\", \"data\": {\"outcomeType\": 1, \"valueTowardsCompletion\": 0.5, \"interactionType\": 1, \"questionType\": 2, \"questionId\": \"2_FitModelWithAllData\", \"learnToolsVersion\": \"0.3.4\", \"failureMessage\": \"\", \"exceptionClass\": \"\", \"trace\": \"\"}}, \"*\")"
      ],
      "text/plain": [
       "<IPython.core.display.Javascript object>"
      ]
     },
     "metadata": {},
     "output_type": "display_data"
    },
    {
     "data": {
      "text/markdown": [
       "<span style=\"color:#33cc33\">Correct</span>"
      ],
      "text/plain": [
       "Correct"
      ]
     },
     "metadata": {},
     "output_type": "display_data"
    }
   ],
   "source": [
    "# Fill in argument to make optimal size and uncomment\n",
    "final_model = DecisionTreeRegressor(max_leaf_nodes=best_tree_size, random_state=1)\n",
    "\n",
    "# fit the final model and uncomment the next two lines\n",
    "final_model.fit(X, y)\n",
    "\n",
    "# Check your answer\n",
    "step_2.check()"
   ]
  },
  {
   "cell_type": "code",
   "execution_count": 6,
   "id": "85ac7c11",
   "metadata": {
    "execution": {
     "iopub.execute_input": "2023-01-14T14:54:45.126540Z",
     "iopub.status.busy": "2023-01-14T14:54:45.126108Z",
     "iopub.status.idle": "2023-01-14T14:54:45.130596Z",
     "shell.execute_reply": "2023-01-14T14:54:45.129191Z"
    },
    "papermill": {
     "duration": 0.011755,
     "end_time": "2023-01-14T14:54:45.132975",
     "exception": false,
     "start_time": "2023-01-14T14:54:45.121220",
     "status": "completed"
    },
    "tags": []
   },
   "outputs": [],
   "source": [
    "# step_2.hint()\n",
    "#step_2.solution()"
   ]
  },
  {
   "cell_type": "markdown",
   "id": "a17b7487",
   "metadata": {
    "papermill": {
     "duration": 0.00331,
     "end_time": "2023-01-14T14:54:45.140063",
     "exception": false,
     "start_time": "2023-01-14T14:54:45.136753",
     "status": "completed"
    },
    "tags": []
   },
   "source": [
    "You've tuned this model and improved your results. But we are still using Decision Tree models, which are not very sophisticated by modern machine learning standards. In the next step you will learn to use Random Forests to improve your models even more.\n",
    "\n",
    "# Keep Going\n",
    "\n",
    "You are ready for **[Random Forests](https://www.kaggle.com/dansbecker/random-forests).**\n"
   ]
  },
  {
   "cell_type": "markdown",
   "id": "4887a772",
   "metadata": {
    "papermill": {
     "duration": 0.00323,
     "end_time": "2023-01-14T14:54:45.146902",
     "exception": false,
     "start_time": "2023-01-14T14:54:45.143672",
     "status": "completed"
    },
    "tags": []
   },
   "source": [
    "---\n",
    "\n",
    "\n",
    "\n",
    "\n",
    "*Have questions or comments? Visit the [course discussion forum](https://www.kaggle.com/learn/intro-to-machine-learning/discussion) to chat with other learners.*"
   ]
  }
 ],
 "metadata": {
  "kernelspec": {
   "display_name": "Python 3",
   "language": "python",
   "name": "python3"
  },
  "language_info": {
   "codemirror_mode": {
    "name": "ipython",
    "version": 3
   },
   "file_extension": ".py",
   "mimetype": "text/x-python",
   "name": "python",
   "nbconvert_exporter": "python",
   "pygments_lexer": "ipython3",
   "version": "3.7.12"
  },
  "papermill": {
   "default_parameters": {},
   "duration": 12.200188,
   "end_time": "2023-01-14T14:54:45.871524",
   "environment_variables": {},
   "exception": null,
   "input_path": "__notebook__.ipynb",
   "output_path": "__notebook__.ipynb",
   "parameters": {},
   "start_time": "2023-01-14T14:54:33.671336",
   "version": "2.3.4"
  }
 },
 "nbformat": 4,
 "nbformat_minor": 5
}
