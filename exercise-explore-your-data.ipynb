{
 "cells": [
  {
   "cell_type": "markdown",
   "id": "46e8840e",
   "metadata": {
    "papermill": {
     "duration": 0.004957,
     "end_time": "2023-01-14T14:33:47.459985",
     "exception": false,
     "start_time": "2023-01-14T14:33:47.455028",
     "status": "completed"
    },
    "tags": []
   },
   "source": [
    "**[Machine Learning Course Home Page](https://www.kaggle.com/learn/machine-learning)**\n",
    "\n",
    "---\n"
   ]
  },
  {
   "cell_type": "markdown",
   "id": "69681bc6",
   "metadata": {
    "papermill": {
     "duration": 0.003185,
     "end_time": "2023-01-14T14:33:47.467047",
     "exception": false,
     "start_time": "2023-01-14T14:33:47.463862",
     "status": "completed"
    },
    "tags": []
   },
   "source": [
    "This exercise will test your ability to read a data file and understand statistics about the data.\n",
    "\n",
    "In later exercises, you will apply techniques to filter the data, build a machine learning model, and iteratively improve your model.\n",
    "\n",
    "The course examples use data from Melbourne. To ensure you can apply these techniques on your own, you will have to apply them to a new dataset (with house prices from Iowa).\n",
    "\n",
    "The exercises use a \"notebook\" coding environment.  In case you are unfamiliar with notebooks, we have a [90-second intro video](https://www.youtube.com/watch?v=4C2qMnaIKL4).\n",
    "\n",
    "# Exercises\n",
    "\n",
    "Run the following cell to set up code-checking, which will verify your work as you go."
   ]
  },
  {
   "cell_type": "code",
   "execution_count": 1,
   "id": "c3ce3404",
   "metadata": {
    "execution": {
     "iopub.execute_input": "2023-01-14T14:33:47.477300Z",
     "iopub.status.busy": "2023-01-14T14:33:47.475671Z",
     "iopub.status.idle": "2023-01-14T14:33:47.535007Z",
     "shell.execute_reply": "2023-01-14T14:33:47.533078Z"
    },
    "papermill": {
     "duration": 0.067679,
     "end_time": "2023-01-14T14:33:47.538223",
     "exception": false,
     "start_time": "2023-01-14T14:33:47.470544",
     "status": "completed"
    },
    "tags": []
   },
   "outputs": [
    {
     "name": "stdout",
     "output_type": "stream",
     "text": [
      "Setup Complete\n"
     ]
    }
   ],
   "source": [
    "# Set up code checking\n",
    "from learntools.core import binder\n",
    "binder.bind(globals())\n",
    "from learntools.machine_learning.ex2 import *\n",
    "print(\"Setup Complete\")"
   ]
  },
  {
   "cell_type": "markdown",
   "id": "fc3afc09",
   "metadata": {
    "papermill": {
     "duration": 0.003276,
     "end_time": "2023-01-14T14:33:47.545485",
     "exception": false,
     "start_time": "2023-01-14T14:33:47.542209",
     "status": "completed"
    },
    "tags": []
   },
   "source": [
    "## Step 1: Loading Data\n",
    "Read the Iowa data file into a Pandas DataFrame called `home_data`."
   ]
  },
  {
   "cell_type": "code",
   "execution_count": 2,
   "id": "3a1379f6",
   "metadata": {
    "execution": {
     "iopub.execute_input": "2023-01-14T14:33:47.557724Z",
     "iopub.status.busy": "2023-01-14T14:33:47.555244Z",
     "iopub.status.idle": "2023-01-14T14:33:47.622477Z",
     "shell.execute_reply": "2023-01-14T14:33:47.621560Z"
    },
    "papermill": {
     "duration": 0.076232,
     "end_time": "2023-01-14T14:33:47.625227",
     "exception": false,
     "start_time": "2023-01-14T14:33:47.548995",
     "status": "completed"
    },
    "tags": []
   },
   "outputs": [
    {
     "data": {
      "application/javascript": [
       "parent.postMessage({\"jupyterEvent\": \"custom.exercise_interaction\", \"data\": {\"outcomeType\": 1, \"valueTowardsCompletion\": 0.5, \"interactionType\": 1, \"questionType\": 1, \"questionId\": \"1_LoadHomeData\", \"learnToolsVersion\": \"0.3.4\", \"failureMessage\": \"\", \"exceptionClass\": \"\", \"trace\": \"\"}}, \"*\")"
      ],
      "text/plain": [
       "<IPython.core.display.Javascript object>"
      ]
     },
     "metadata": {},
     "output_type": "display_data"
    },
    {
     "data": {
      "text/markdown": [
       "<span style=\"color:#33cc33\">Correct</span>"
      ],
      "text/plain": [
       "Correct"
      ]
     },
     "metadata": {},
     "output_type": "display_data"
    }
   ],
   "source": [
    "import pandas as pd\n",
    "\n",
    "# Path of the file to read\n",
    "iowa_file_path = '../input/home-data-for-ml-course/train.csv'\n",
    "\n",
    "# Fill in the line below to read the file into a variable home_data\n",
    "home_data = pd.read_csv(\"../input/home-data-for-ml-course/train.csv\")\n",
    "\n",
    "# Call line below with no argument to check that you've loaded the data correctly\n",
    "step_1.check()"
   ]
  },
  {
   "cell_type": "code",
   "execution_count": 3,
   "id": "1e8ae29d",
   "metadata": {
    "collapsed": true,
    "execution": {
     "iopub.execute_input": "2023-01-14T14:33:47.635140Z",
     "iopub.status.busy": "2023-01-14T14:33:47.634665Z",
     "iopub.status.idle": "2023-01-14T14:33:47.639966Z",
     "shell.execute_reply": "2023-01-14T14:33:47.638600Z"
    },
    "jupyter": {
     "outputs_hidden": true
    },
    "papermill": {
     "duration": 0.013461,
     "end_time": "2023-01-14T14:33:47.642616",
     "exception": false,
     "start_time": "2023-01-14T14:33:47.629155",
     "status": "completed"
    },
    "tags": []
   },
   "outputs": [],
   "source": [
    "# Lines below will give you a hint or solution code\n",
    "#step_1.hint()\n",
    "#step_1.solution()"
   ]
  },
  {
   "cell_type": "markdown",
   "id": "88ff2aac",
   "metadata": {
    "papermill": {
     "duration": 0.003797,
     "end_time": "2023-01-14T14:33:47.650500",
     "exception": false,
     "start_time": "2023-01-14T14:33:47.646703",
     "status": "completed"
    },
    "tags": []
   },
   "source": [
    "## Step 2: Review The Data\n",
    "Use the command you learned to view summary statistics of the data. Then fill in variables to answer the following questions"
   ]
  },
  {
   "cell_type": "code",
   "execution_count": 4,
   "id": "77f2e19d",
   "metadata": {
    "execution": {
     "iopub.execute_input": "2023-01-14T14:33:47.661435Z",
     "iopub.status.busy": "2023-01-14T14:33:47.660131Z",
     "iopub.status.idle": "2023-01-14T14:33:47.668449Z",
     "shell.execute_reply": "2023-01-14T14:33:47.667176Z"
    },
    "papermill": {
     "duration": 0.016453,
     "end_time": "2023-01-14T14:33:47.670942",
     "exception": false,
     "start_time": "2023-01-14T14:33:47.654489",
     "status": "completed"
    },
    "tags": []
   },
   "outputs": [
    {
     "data": {
      "text/markdown": [],
      "text/plain": [
       "<learntools.core.constants.PlaceholderValue at 0x7fb51d5e73d0>"
      ]
     },
     "execution_count": 4,
     "metadata": {},
     "output_type": "execute_result"
    }
   ],
   "source": [
    "# Print summary statistics in next line\n",
    "____"
   ]
  },
  {
   "cell_type": "code",
   "execution_count": 5,
   "id": "396e91c1",
   "metadata": {
    "execution": {
     "iopub.execute_input": "2023-01-14T14:33:47.682481Z",
     "iopub.status.busy": "2023-01-14T14:33:47.681489Z",
     "iopub.status.idle": "2023-01-14T14:33:47.694039Z",
     "shell.execute_reply": "2023-01-14T14:33:47.692542Z"
    },
    "papermill": {
     "duration": 0.02124,
     "end_time": "2023-01-14T14:33:47.696690",
     "exception": false,
     "start_time": "2023-01-14T14:33:47.675450",
     "status": "completed"
    },
    "tags": []
   },
   "outputs": [
    {
     "data": {
      "application/javascript": [
       "parent.postMessage({\"jupyterEvent\": \"custom.exercise_interaction\", \"data\": {\"outcomeType\": 1, \"valueTowardsCompletion\": 0.5, \"interactionType\": 1, \"questionType\": 1, \"questionId\": \"2_HomeDescription\", \"learnToolsVersion\": \"0.3.4\", \"failureMessage\": \"\", \"exceptionClass\": \"\", \"trace\": \"\"}}, \"*\")"
      ],
      "text/plain": [
       "<IPython.core.display.Javascript object>"
      ]
     },
     "metadata": {},
     "output_type": "display_data"
    },
    {
     "data": {
      "text/markdown": [
       "<span style=\"color:#33cc33\">Correct</span>"
      ],
      "text/plain": [
       "Correct"
      ]
     },
     "metadata": {},
     "output_type": "display_data"
    }
   ],
   "source": [
    "# What is the average lot size (rounded to nearest integer)?\n",
    "avg_lot_size =10517\n",
    "\n",
    "# As of today, how old is the newest home (current year - the date in which it was built)\n",
    "newest_home_age =13\n",
    "\n",
    "# Checks your answers\n",
    "step_2.check()"
   ]
  },
  {
   "cell_type": "code",
   "execution_count": 6,
   "id": "9f4ceaf5",
   "metadata": {
    "execution": {
     "iopub.execute_input": "2023-01-14T14:33:47.708006Z",
     "iopub.status.busy": "2023-01-14T14:33:47.707495Z",
     "iopub.status.idle": "2023-01-14T14:33:47.711707Z",
     "shell.execute_reply": "2023-01-14T14:33:47.710611Z"
    },
    "papermill": {
     "duration": 0.012849,
     "end_time": "2023-01-14T14:33:47.714049",
     "exception": false,
     "start_time": "2023-01-14T14:33:47.701200",
     "status": "completed"
    },
    "tags": []
   },
   "outputs": [],
   "source": [
    "#step_2.hint()\n",
    "#step_2.solution()"
   ]
  },
  {
   "cell_type": "markdown",
   "id": "d9abba94",
   "metadata": {
    "papermill": {
     "duration": 0.004095,
     "end_time": "2023-01-14T14:33:47.722685",
     "exception": false,
     "start_time": "2023-01-14T14:33:47.718590",
     "status": "completed"
    },
    "tags": []
   },
   "source": [
    "## Think About Your Data\n",
    "\n",
    "The newest house in your data isn't that new.  A few potential explanations for this:\n",
    "1. They haven't built new houses where this data was collected.\n",
    "1. The data was collected a long time ago. Houses built after the data publication wouldn't show up.\n",
    "\n",
    "If the reason is explanation #1 above, does that affect your trust in the model you build with this data? What about if it is reason #2?\n",
    "\n",
    "How could you dig into the data to see which explanation is more plausible?\n",
    "\n",
    "Check out this **[discussion thread](https://www.kaggle.com/learn-forum/60581)** to see what others think or to add your ideas.\n",
    "\n",
    "# Keep Going\n",
    "\n",
    "You are ready for **[Your First Machine Learning Model](https://www.kaggle.com/dansbecker/your-first-machine-learning-model).**\n"
   ]
  },
  {
   "cell_type": "markdown",
   "id": "80f59494",
   "metadata": {
    "papermill": {
     "duration": 0.004101,
     "end_time": "2023-01-14T14:33:47.731129",
     "exception": false,
     "start_time": "2023-01-14T14:33:47.727028",
     "status": "completed"
    },
    "tags": []
   },
   "source": [
    "---\n",
    "**[Machine Learning Course Home Page](https://www.kaggle.com/learn/machine-learning)**\n",
    "\n"
   ]
  }
 ],
 "metadata": {
  "kernelspec": {
   "display_name": "Python 3",
   "language": "python",
   "name": "python3"
  },
  "language_info": {
   "codemirror_mode": {
    "name": "ipython",
    "version": 3
   },
   "file_extension": ".py",
   "mimetype": "text/x-python",
   "name": "python",
   "nbconvert_exporter": "python",
   "pygments_lexer": "ipython3",
   "version": "3.7.12"
  },
  "papermill": {
   "default_parameters": {},
   "duration": 11.772654,
   "end_time": "2023-01-14T14:33:48.762038",
   "environment_variables": {},
   "exception": null,
   "input_path": "__notebook__.ipynb",
   "output_path": "__notebook__.ipynb",
   "parameters": {},
   "start_time": "2023-01-14T14:33:36.989384",
   "version": "2.3.4"
  }
 },
 "nbformat": 4,
 "nbformat_minor": 5
}
